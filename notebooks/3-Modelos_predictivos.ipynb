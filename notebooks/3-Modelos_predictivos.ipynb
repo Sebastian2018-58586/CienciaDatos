{
 "cells": [
  {
   "cell_type": "markdown",
   "id": "786ba1f4",
   "metadata": {},
   "source": [
    "### 3. Implementación de Modelos Predictivos"
   ]
  },
  {
   "cell_type": "code",
   "execution_count": 41,
   "id": "83b4aa9f",
   "metadata": {},
   "outputs": [
    {
     "name": "stdout",
     "output_type": "stream",
     "text": [
      "Requirement already satisfied: scikit-learn in c:\\users\\sebas\\appdata\\local\\programs\\python\\python313\\lib\\site-packages (1.6.1)\n",
      "Requirement already satisfied: xgboost in c:\\users\\sebas\\appdata\\local\\programs\\python\\python313\\lib\\site-packages (3.0.0)\n",
      "Requirement already satisfied: numpy>=1.19.5 in c:\\users\\sebas\\appdata\\local\\programs\\python\\python313\\lib\\site-packages (from scikit-learn) (2.2.3)\n",
      "Requirement already satisfied: scipy>=1.6.0 in c:\\users\\sebas\\appdata\\local\\programs\\python\\python313\\lib\\site-packages (from scikit-learn) (1.15.2)\n",
      "Requirement already satisfied: joblib>=1.2.0 in c:\\users\\sebas\\appdata\\local\\programs\\python\\python313\\lib\\site-packages (from scikit-learn) (1.4.2)\n",
      "Requirement already satisfied: threadpoolctl>=3.1.0 in c:\\users\\sebas\\appdata\\local\\programs\\python\\python313\\lib\\site-packages (from scikit-learn) (3.6.0)\n"
     ]
    },
    {
     "name": "stderr",
     "output_type": "stream",
     "text": [
      "\n",
      "[notice] A new release of pip is available: 25.0.1 -> 25.1.1\n",
      "[notice] To update, run: python.exe -m pip install --upgrade pip\n"
     ]
    }
   ],
   "source": [
    "!pip install scikit-learn xgboost"
   ]
  },
  {
   "cell_type": "code",
   "execution_count": 60,
   "id": "3915db17",
   "metadata": {},
   "outputs": [],
   "source": [
    "import pandas as pd\n",
    "from sklearn.model_selection import train_test_split\n",
    "from sklearn.preprocessing import StandardScaler\n",
    "from sklearn.linear_model import LinearRegression\n",
    "from sklearn.metrics import mean_squared_error, r2_score\n",
    "import seaborn as sns\n",
    "import matplotlib.pyplot as plt\n",
    "from sklearn.ensemble import RandomForestRegressor\n",
    "import xgboost as xgb\n",
    "from xgboost import XGBRegressor\n"
   ]
  },
  {
   "cell_type": "markdown",
   "id": "efb0137c",
   "metadata": {},
   "source": [
    "## 3.1. Preparación de los Datos"
   ]
  },
  {
   "cell_type": "code",
   "execution_count": 61,
   "id": "076cb11d",
   "metadata": {},
   "outputs": [
    {
     "name": "stdout",
     "output_type": "stream",
     "text": [
      "Train shape: (892, 44), Test shape: (383, 44)\n"
     ]
    }
   ],
   "source": [
    "# Cargar dataset limpio de laptops\n",
    "laptop = pd.read_csv('../data/laptop_prices.csv')  # Asegúrate de que el archivo esté en la ruta correcta\n",
    "\n",
    "# Separar features y target\n",
    "X = laptop.drop('Price_euros', axis=1)  # El target es 'Price_euros'\n",
    "y = laptop['Price_euros']\n",
    "\n",
    "# Dividir en train (70%) y test (30%)\n",
    "X_train, X_test, y_train, y_test = train_test_split(X, y, test_size=0.3, random_state=42)\n",
    "\n",
    "# Escalar features numéricas (excepto variables dummy)\n",
    "scaler = StandardScaler()\n",
    "# Puedes definir las columnas numéricas aquí, dependiendo de cuáles sean relevantes para tu modelo\n",
    "numeric_cols = ['Inches', 'Ram', 'Weight', 'ScreenW', 'ScreenH', 'CPU_freq', 'PrimaryStorage', 'SecondaryStorage']\n",
    "X_train[numeric_cols] = scaler.fit_transform(X_train[numeric_cols])\n",
    "X_test[numeric_cols] = scaler.transform(X_test[numeric_cols])\n",
    "\n",
    "print(f\"Train shape: {X_train.shape}, Test shape: {X_test.shape}\")\n"
   ]
  },
  {
   "cell_type": "markdown",
   "id": "150b7630",
   "metadata": {},
   "source": [
    "## 3.2. Modelo 1: Regresión Lineal\n",
    "\n",
    "### Implementación\n",
    "\n",
    "**Entrenamiento:**\n",
    "- Se entrenó un modelo de regresión lineal (`LinearRegression`) utilizando el conjunto de entrenamiento."
   ]
  },
  {
   "cell_type": "code",
   "execution_count": 62,
   "id": "8faf197b",
   "metadata": {},
   "outputs": [
    {
     "name": "stdout",
     "output_type": "stream",
     "text": [
      "MSE: 0.00\n",
      "R²: 1.00\n"
     ]
    }
   ],
   "source": [
    "# Codificar columnas categóricas usando one-hot encoding\n",
    "X = pd.get_dummies(X)\n",
    "\n",
    "# División en datos de entrenamiento y prueba\n",
    "X_train, X_test, y_train, y_test = train_test_split(X, y, test_size=0.2, random_state=42)\n",
    "\n",
    "# Crear y entrenar el modelo de regresión lineal\n",
    "modelo = LinearRegression()\n",
    "modelo.fit(X_train, y_train)\n",
    "\n",
    "# Realizar predicciones\n",
    "y_pred = modelo.predict(X_test)\n",
    "\n",
    "# Evaluación del modelo\n",
    "mse = mean_squared_error(y_test, y_pred)\n",
    "r2 = r2_score(y_test, y_pred)\n",
    "\n",
    "# Imprimir métricas\n",
    "print(f\"MSE: {mse:.2f}\")\n",
    "print(f\"R²: {r2:.2f}\")"
   ]
  },
  {
   "cell_type": "markdown",
   "id": "3e72178a",
   "metadata": {},
   "source": [
    "## 3.2. Modelo 2:Random Forest Regressor\n",
    "\n",
    "**Entrenamiento:**\n",
    "- Se entrenó un modelo `RandomForestRegressor`"
   ]
  },
  {
   "cell_type": "code",
   "execution_count": 63,
   "id": "4b4ceba8",
   "metadata": {},
   "outputs": [
    {
     "name": "stdout",
     "output_type": "stream",
     "text": [
      "\n",
      "Random Forest:\n",
      "- MSE: 0.0000\n",
      "- R²: 1.0000\n",
      "\n",
      "(Top 5) Variables:\n",
      "           Variable  Importancia\n",
      "9  Price_winsorized     0.917831\n",
      "8         Price_log     0.082138\n",
      "2            Weight     0.000003\n",
      "5          CPU_freq     0.000002\n",
      "0            Inches     0.000001\n"
     ]
    }
   ],
   "source": [
    "# Codificar columnas categóricas usando one-hot encoding\n",
    "X = pd.get_dummies(X)\n",
    "\n",
    "# División en datos de entrenamiento y prueba\n",
    "X_train, X_test, y_train, y_test = train_test_split(X, y, test_size=0.2, random_state=42)\n",
    "\n",
    "# Entrenamiento de Random Forest\n",
    "rf = RandomForestRegressor(\n",
    "    n_estimators=200,\n",
    "    max_depth=10,\n",
    "    random_state=42\n",
    ")\n",
    "rf.fit(X_train, y_train)\n",
    "\n",
    "# Predicciones\n",
    "y_pred_rf = rf.predict(X_test)\n",
    "\n",
    "# Métricas\n",
    "mse_rf = mean_squared_error(y_test, y_pred_rf)\n",
    "r2_rf = r2_score(y_test, y_pred_rf)\n",
    "\n",
    "print(\"\\nRandom Forest:\")\n",
    "print(f\"- MSE: {mse_rf:.4f}\")\n",
    "print(f\"- R²: {r2_rf:.4f}\")\n",
    "\n",
    "# Importancia de features\n",
    "feature_importance = pd.DataFrame({\n",
    "    'Variable': X_train.columns,\n",
    "    'Importancia': rf.feature_importances_\n",
    "}).sort_values('Importancia', ascending=False)\n",
    "\n",
    "print(\"\\n(Top 5) Variables:\")\n",
    "print(feature_importance.head(5))"
   ]
  },
  {
   "cell_type": "markdown",
   "id": "6e0c9409",
   "metadata": {},
   "source": [
    "### 3.2. Modelo 3: XGBoost Regressor"
   ]
  },
  {
   "cell_type": "code",
   "execution_count": 65,
   "id": "7a360270",
   "metadata": {},
   "outputs": [
    {
     "name": "stdout",
     "output_type": "stream",
     "text": [
      "\n",
      "XGBoost:\n",
      "- MSE: 0.0001\n",
      "- R²: 0.9999\n"
     ]
    }
   ],
   "source": [
    "# Codificación de variables categóricas con one-hot encoding\n",
    "X = pd.get_dummies(X)\n",
    "\n",
    "# Limpiar los nombres de las columnas para que no contengan caracteres no permitidos\n",
    "X.columns = X.columns.str.replace('[', '_', regex=False).str.replace(']', '_', regex=False).str.replace('<', '_', regex=False)\n",
    "\n",
    "# División en datos de entrenamiento y prueba\n",
    "X_train, X_test, y_train, y_test = train_test_split(X, y, test_size=0.2, random_state=42)\n",
    "\n",
    "# Entrenamiento del modelo XGBoost\n",
    "xgb = XGBRegressor(\n",
    "    n_estimators=150,\n",
    "    learning_rate=0.1,\n",
    "    max_depth=6,\n",
    "    random_state=42\n",
    ")\n",
    "xgb.fit(X_train, y_train)\n",
    "\n",
    "# Predicciones con el modelo entrenado\n",
    "y_pred_xgb = xgb.predict(X_test)\n",
    "\n",
    "# Cálculo de las métricas\n",
    "mse_xgb = mean_squared_error(y_test, y_pred_xgb)\n",
    "r2_xgb = r2_score(y_test, y_pred_xgb)\n",
    "\n",
    "# Mostrar los resultados\n",
    "print(\"\\nXGBoost:\")\n",
    "print(f\"- MSE: {mse_xgb:.4f}\")\n",
    "print(f\"- R²: {r2_xgb:.4f}\")"
   ]
  },
  {
   "cell_type": "code",
   "execution_count": 66,
   "id": "27e675a8",
   "metadata": {},
   "outputs": [
    {
     "name": "stdout",
     "output_type": "stream",
     "text": [
      "             Modelo           MSE        R²\n",
      "0  Regresión Lineal  1.425738e-28  1.000000\n",
      "1     Random Forest  2.234089e-05  0.999976\n",
      "2           XGBoost  7.347441e-05  0.999921\n"
     ]
    },
    {
     "name": "stderr",
     "output_type": "stream",
     "text": [
      "C:\\Users\\Sebas\\AppData\\Local\\Temp\\ipykernel_15316\\2890198739.py:12: FutureWarning: \n",
      "\n",
      "Passing `palette` without assigning `hue` is deprecated and will be removed in v0.14.0. Assign the `x` variable to `hue` and set `legend=False` for the same effect.\n",
      "\n",
      "  sns.barplot(data=results, x='Modelo', y='R²', palette='viridis')\n"
     ]
    },
    {
     "data": {
      "image/png": "[encoded data removed]",
      "text/plain": [
       "<Figure size 1000x500 with 1 Axes>"
      ]
     },
     "metadata": {},
     "output_type": "display_data"
    }
   ],
   "source": [
    "# Crear un DataFrame con los resultados\n",
    "results = pd.DataFrame({\n",
    "    'Modelo': ['Regresión Lineal', 'Random Forest', 'XGBoost'],\n",
    "    'MSE': [mse_lr, mse_rf, mse_xgb],\n",
    "    'R²': [r2_lr, r2_rf, r2_xgb]\n",
    "}).sort_values('R²', ascending=False)\n",
    "\n",
    "print(results)\n",
    "\n",
    "# Gráfico de comparación por R²\n",
    "plt.figure(figsize=(10, 5))\n",
    "sns.barplot(data=results, x='Modelo', y='R²', palette='viridis')\n",
    "plt.title('Comparación de Modelos por R²')\n",
    "plt.ylim(0, 1)\n",
    "plt.xticks(rotation=15)\n",
    "plt.show()"
   ]
  },
  {
   "cell_type": "markdown",
   "id": "05ca5de3",
   "metadata": {},
   "source": [
    "Regresión Lineal tiene un MSE extremadamente bajo (casi cero) y un R² de 1.000000, lo que indica que el modelo ha ajustado perfectamente los datos. Sin embargo, un valor de MSE tan pequeño podría ser un indicativo de sobreajuste o que el modelo se está ajustando demasiado bien a los datos de entrenamiento.\n",
    "\n",
    "Random Forest tiene un MSE de 2.234089e-05 y un R² de 0.999976, lo que también es muy cercano a un ajuste perfecto, pero aún un poco menos que el de la regresión lineal.\n",
    "\n",
    "XGBoost tiene un MSE de 7.347441e-05 y un R² de 0.999921, lo que también sugiere un muy buen rendimiento, aunque ligeramente por debajo de los otros dos modelos en términos de ambos indicadores."
   ]
  }
 ],
 "metadata": {
  "kernelspec": {
   "display_name": "Python 3",
   "language": "python",
   "name": "python3"
  },
  "language_info": {
   "codemirror_mode": {
    "name": "ipython",
    "version": 3
   },
   "file_extension": ".py",
   "mimetype": "text/x-python",
   "name": "python",
   "nbconvert_exporter": "python",
   "pygments_lexer": "ipython3",
   "version": "3.13.0"
  }
 },
 "nbformat": 4,
 "nbformat_minor": 5
}
