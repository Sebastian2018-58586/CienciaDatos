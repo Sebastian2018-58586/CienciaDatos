{
 "cells": [
  {
   "cell_type": "markdown",
   "id": "9fb9894e",
   "metadata": {},
   "source": [
    "### 2. Limpieza y Normalización de Datos"
   ]
  },
  {
   "cell_type": "code",
   "execution_count": 35,
   "id": "4a24331e",
   "metadata": {},
   "outputs": [
    {
     "name": "stdout",
     "output_type": "stream",
     "text": [
      "Requirement already satisfied: scikit-learn in c:\\users\\sebas\\appdata\\local\\programs\\python\\python313\\lib\\site-packages (1.6.1)\n",
      "Requirement already satisfied: numpy>=1.19.5 in c:\\users\\sebas\\appdata\\local\\programs\\python\\python313\\lib\\site-packages (from scikit-learn) (2.2.3)\n",
      "Requirement already satisfied: scipy>=1.6.0 in c:\\users\\sebas\\appdata\\local\\programs\\python\\python313\\lib\\site-packages (from scikit-learn) (1.15.2)\n",
      "Requirement already satisfied: joblib>=1.2.0 in c:\\users\\sebas\\appdata\\local\\programs\\python\\python313\\lib\\site-packages (from scikit-learn) (1.4.2)\n",
      "Requirement already satisfied: threadpoolctl>=3.1.0 in c:\\users\\sebas\\appdata\\local\\programs\\python\\python313\\lib\\site-packages (from scikit-learn) (3.6.0)\n"
     ]
    },
    {
     "name": "stderr",
     "output_type": "stream",
     "text": [
      "\n",
      "[notice] A new release of pip is available: 25.0.1 -> 25.1.1\n",
      "[notice] To update, run: python.exe -m pip install --upgrade pip\n"
     ]
    }
   ],
   "source": [
    "!pip install scikit-learn"
   ]
  },
  {
   "cell_type": "code",
   "execution_count": 43,
   "id": "219c9bc3",
   "metadata": {},
   "outputs": [
    {
     "name": "stdout",
     "output_type": "stream",
     "text": [
      "['Solarize_Light2', '_classic_test_patch', '_mpl-gallery', '_mpl-gallery-nogrid', 'bmh', 'classic', 'dark_background', 'fast', 'fivethirtyeight', 'ggplot', 'grayscale', 'petroff10', 'seaborn-v0_8', 'seaborn-v0_8-bright', 'seaborn-v0_8-colorblind', 'seaborn-v0_8-dark', 'seaborn-v0_8-dark-palette', 'seaborn-v0_8-darkgrid', 'seaborn-v0_8-deep', 'seaborn-v0_8-muted', 'seaborn-v0_8-notebook', 'seaborn-v0_8-paper', 'seaborn-v0_8-pastel', 'seaborn-v0_8-poster', 'seaborn-v0_8-talk', 'seaborn-v0_8-ticks', 'seaborn-v0_8-white', 'seaborn-v0_8-whitegrid', 'tableau-colorblind10']\n"
     ]
    }
   ],
   "source": [
    "# Importar librerías\n",
    "import pandas as pd\n",
    "import numpy as np\n",
    "import seaborn as sns\n",
    "from sklearn.preprocessing import StandardScaler\n",
    "import matplotlib.pyplot as plt\n",
    "from scipy.stats.mstats import winsorize\n",
    "print(plt.style.available)\n",
    "\n",
    "\n",
    "plt.style.use('seaborn-v0_8')"
   ]
  },
  {
   "cell_type": "code",
   "execution_count": 44,
   "id": "ece8b52c",
   "metadata": {},
   "outputs": [],
   "source": [
    "# Ruta al archivo CSV\n",
    "laptop = pd.read_csv(\"../data/laptop_prices.csv\")"
   ]
  },
  {
   "cell_type": "code",
   "execution_count": 45,
   "id": "e416c190",
   "metadata": {},
   "outputs": [
    {
     "data": {
      "text/html": [
       "<div>\n",
       "<style scoped>\n",
       "    .dataframe tbody tr th:only-of-type {\n",
       "        vertical-align: middle;\n",
       "    }\n",
       "\n",
       "    .dataframe tbody tr th {\n",
       "        vertical-align: top;\n",
       "    }\n",
       "\n",
       "    .dataframe thead th {\n",
       "        text-align: right;\n",
       "    }\n",
       "</style>\n",
       "<table border=\"1\" class=\"dataframe\">\n",
       "  <thead>\n",
       "    <tr style=\"text-align: right;\">\n",
       "      <th></th>\n",
       "      <th>Valores Nulos</th>\n",
       "      <th>Porcentaje (%)</th>\n",
       "    </tr>\n",
       "  </thead>\n",
       "  <tbody>\n",
       "    <tr>\n",
       "      <th>Price_log</th>\n",
       "      <td>234</td>\n",
       "      <td>18.35</td>\n",
       "    </tr>\n",
       "    <tr>\n",
       "      <th>Inches</th>\n",
       "      <td>0</td>\n",
       "      <td>0.00</td>\n",
       "    </tr>\n",
       "    <tr>\n",
       "      <th>Ram</th>\n",
       "      <td>0</td>\n",
       "      <td>0.00</td>\n",
       "    </tr>\n",
       "    <tr>\n",
       "      <th>OS</th>\n",
       "      <td>0</td>\n",
       "      <td>0.00</td>\n",
       "    </tr>\n",
       "    <tr>\n",
       "      <th>Product</th>\n",
       "      <td>0</td>\n",
       "      <td>0.00</td>\n",
       "    </tr>\n",
       "    <tr>\n",
       "      <th>Price_euros</th>\n",
       "      <td>0</td>\n",
       "      <td>0.00</td>\n",
       "    </tr>\n",
       "    <tr>\n",
       "      <th>Screen</th>\n",
       "      <td>0</td>\n",
       "      <td>0.00</td>\n",
       "    </tr>\n",
       "    <tr>\n",
       "      <th>ScreenW</th>\n",
       "      <td>0</td>\n",
       "      <td>0.00</td>\n",
       "    </tr>\n",
       "    <tr>\n",
       "      <th>ScreenH</th>\n",
       "      <td>0</td>\n",
       "      <td>0.00</td>\n",
       "    </tr>\n",
       "    <tr>\n",
       "      <th>Touchscreen</th>\n",
       "      <td>0</td>\n",
       "      <td>0.00</td>\n",
       "    </tr>\n",
       "    <tr>\n",
       "      <th>IPSpanel</th>\n",
       "      <td>0</td>\n",
       "      <td>0.00</td>\n",
       "    </tr>\n",
       "    <tr>\n",
       "      <th>RetinaDisplay</th>\n",
       "      <td>0</td>\n",
       "      <td>0.00</td>\n",
       "    </tr>\n",
       "    <tr>\n",
       "      <th>Weight</th>\n",
       "      <td>0</td>\n",
       "      <td>0.00</td>\n",
       "    </tr>\n",
       "    <tr>\n",
       "      <th>CPU_company</th>\n",
       "      <td>0</td>\n",
       "      <td>0.00</td>\n",
       "    </tr>\n",
       "    <tr>\n",
       "      <th>CPU_freq</th>\n",
       "      <td>0</td>\n",
       "      <td>0.00</td>\n",
       "    </tr>\n",
       "    <tr>\n",
       "      <th>PrimaryStorage</th>\n",
       "      <td>0</td>\n",
       "      <td>0.00</td>\n",
       "    </tr>\n",
       "    <tr>\n",
       "      <th>CPU_model</th>\n",
       "      <td>0</td>\n",
       "      <td>0.00</td>\n",
       "    </tr>\n",
       "    <tr>\n",
       "      <th>PrimaryStorageType</th>\n",
       "      <td>0</td>\n",
       "      <td>0.00</td>\n",
       "    </tr>\n",
       "    <tr>\n",
       "      <th>SecondaryStorageType</th>\n",
       "      <td>0</td>\n",
       "      <td>0.00</td>\n",
       "    </tr>\n",
       "    <tr>\n",
       "      <th>GPU_company</th>\n",
       "      <td>0</td>\n",
       "      <td>0.00</td>\n",
       "    </tr>\n",
       "    <tr>\n",
       "      <th>SecondaryStorage</th>\n",
       "      <td>0</td>\n",
       "      <td>0.00</td>\n",
       "    </tr>\n",
       "    <tr>\n",
       "      <th>GPU_model</th>\n",
       "      <td>0</td>\n",
       "      <td>0.00</td>\n",
       "    </tr>\n",
       "    <tr>\n",
       "      <th>Price_winsorized</th>\n",
       "      <td>0</td>\n",
       "      <td>0.00</td>\n",
       "    </tr>\n",
       "    <tr>\n",
       "      <th>TypeName_Gaming</th>\n",
       "      <td>0</td>\n",
       "      <td>0.00</td>\n",
       "    </tr>\n",
       "    <tr>\n",
       "      <th>TypeName_Netbook</th>\n",
       "      <td>0</td>\n",
       "      <td>0.00</td>\n",
       "    </tr>\n",
       "    <tr>\n",
       "      <th>TypeName_Notebook</th>\n",
       "      <td>0</td>\n",
       "      <td>0.00</td>\n",
       "    </tr>\n",
       "    <tr>\n",
       "      <th>TypeName_Ultrabook</th>\n",
       "      <td>0</td>\n",
       "      <td>0.00</td>\n",
       "    </tr>\n",
       "    <tr>\n",
       "      <th>TypeName_Workstation</th>\n",
       "      <td>0</td>\n",
       "      <td>0.00</td>\n",
       "    </tr>\n",
       "    <tr>\n",
       "      <th>Company_Apple</th>\n",
       "      <td>0</td>\n",
       "      <td>0.00</td>\n",
       "    </tr>\n",
       "    <tr>\n",
       "      <th>Company_Asus</th>\n",
       "      <td>0</td>\n",
       "      <td>0.00</td>\n",
       "    </tr>\n",
       "    <tr>\n",
       "      <th>Company_Dell</th>\n",
       "      <td>0</td>\n",
       "      <td>0.00</td>\n",
       "    </tr>\n",
       "    <tr>\n",
       "      <th>Company_HP</th>\n",
       "      <td>0</td>\n",
       "      <td>0.00</td>\n",
       "    </tr>\n",
       "    <tr>\n",
       "      <th>Company_Lenovo</th>\n",
       "      <td>0</td>\n",
       "      <td>0.00</td>\n",
       "    </tr>\n",
       "    <tr>\n",
       "      <th>Company_MSI</th>\n",
       "      <td>0</td>\n",
       "      <td>0.00</td>\n",
       "    </tr>\n",
       "    <tr>\n",
       "      <th>Company_Mediacom</th>\n",
       "      <td>0</td>\n",
       "      <td>0.00</td>\n",
       "    </tr>\n",
       "    <tr>\n",
       "      <th>Company_Samsung</th>\n",
       "      <td>0</td>\n",
       "      <td>0.00</td>\n",
       "    </tr>\n",
       "    <tr>\n",
       "      <th>Company_Toshiba</th>\n",
       "      <td>0</td>\n",
       "      <td>0.00</td>\n",
       "    </tr>\n",
       "    <tr>\n",
       "      <th>Company_Company_Asus</th>\n",
       "      <td>0</td>\n",
       "      <td>0.00</td>\n",
       "    </tr>\n",
       "    <tr>\n",
       "      <th>Company_Company_Dell</th>\n",
       "      <td>0</td>\n",
       "      <td>0.00</td>\n",
       "    </tr>\n",
       "    <tr>\n",
       "      <th>Company_Company_HP</th>\n",
       "      <td>0</td>\n",
       "      <td>0.00</td>\n",
       "    </tr>\n",
       "    <tr>\n",
       "      <th>Company_Company_Lenovo</th>\n",
       "      <td>0</td>\n",
       "      <td>0.00</td>\n",
       "    </tr>\n",
       "    <tr>\n",
       "      <th>Company_Company_MSI</th>\n",
       "      <td>0</td>\n",
       "      <td>0.00</td>\n",
       "    </tr>\n",
       "    <tr>\n",
       "      <th>Company_Company_Mediacom</th>\n",
       "      <td>0</td>\n",
       "      <td>0.00</td>\n",
       "    </tr>\n",
       "    <tr>\n",
       "      <th>Company_Company_Samsung</th>\n",
       "      <td>0</td>\n",
       "      <td>0.00</td>\n",
       "    </tr>\n",
       "    <tr>\n",
       "      <th>Company_Company_Toshiba</th>\n",
       "      <td>0</td>\n",
       "      <td>0.00</td>\n",
       "    </tr>\n",
       "  </tbody>\n",
       "</table>\n",
       "</div>"
      ],
      "text/plain": [
       "                          Valores Nulos  Porcentaje (%)\n",
       "Price_log                           234           18.35\n",
       "Inches                                0            0.00\n",
       "Ram                                   0            0.00\n",
       "OS                                    0            0.00\n",
       "Product                               0            0.00\n",
       "Price_euros                           0            0.00\n",
       "Screen                                0            0.00\n",
       "ScreenW                               0            0.00\n",
       "ScreenH                               0            0.00\n",
       "Touchscreen                           0            0.00\n",
       "IPSpanel                              0            0.00\n",
       "RetinaDisplay                         0            0.00\n",
       "Weight                                0            0.00\n",
       "CPU_company                           0            0.00\n",
       "CPU_freq                              0            0.00\n",
       "PrimaryStorage                        0            0.00\n",
       "CPU_model                             0            0.00\n",
       "PrimaryStorageType                    0            0.00\n",
       "SecondaryStorageType                  0            0.00\n",
       "GPU_company                           0            0.00\n",
       "SecondaryStorage                      0            0.00\n",
       "GPU_model                             0            0.00\n",
       "Price_winsorized                      0            0.00\n",
       "TypeName_Gaming                       0            0.00\n",
       "TypeName_Netbook                      0            0.00\n",
       "TypeName_Notebook                     0            0.00\n",
       "TypeName_Ultrabook                    0            0.00\n",
       "TypeName_Workstation                  0            0.00\n",
       "Company_Apple                         0            0.00\n",
       "Company_Asus                          0            0.00\n",
       "Company_Dell                          0            0.00\n",
       "Company_HP                            0            0.00\n",
       "Company_Lenovo                        0            0.00\n",
       "Company_MSI                           0            0.00\n",
       "Company_Mediacom                      0            0.00\n",
       "Company_Samsung                       0            0.00\n",
       "Company_Toshiba                       0            0.00\n",
       "Company_Company_Asus                  0            0.00\n",
       "Company_Company_Dell                  0            0.00\n",
       "Company_Company_HP                    0            0.00\n",
       "Company_Company_Lenovo                0            0.00\n",
       "Company_Company_MSI                   0            0.00\n",
       "Company_Company_Mediacom              0            0.00\n",
       "Company_Company_Samsung               0            0.00\n",
       "Company_Company_Toshiba               0            0.00"
      ]
     },
     "execution_count": 45,
     "metadata": {},
     "output_type": "execute_result"
    }
   ],
   "source": [
    "# Verificamos si hay valores nulos en el dataset\n",
    "null_counts = laptop.isnull().sum()\n",
    "null_percentage = (laptop.isnull().mean() * 100).round(2)\n",
    "\n",
    "pd.DataFrame({\n",
    "    'Valores Nulos': null_counts,\n",
    "    'Porcentaje (%)': null_percentage\n",
    "}).sort_values(by='Porcentaje (%)', ascending=False)"
   ]
  },
  {
   "cell_type": "markdown",
   "id": "d200a909",
   "metadata": {},
   "source": [
    "#### Se utilizó el método del Rango Intercuartílico (IQR) para identificar los valores atípicos en la columna \"Price_euros\" del conjunto de datos de laptops. El proceso consistió en:\n",
    "\n",
    "Calcular los cuartiles (Q1 y Q3) y el Rango Intercuartílico (IQR).\n",
    "\n",
    "Establecer los límites inferior y superior utilizando la fórmula:\n",
    "\n",
    "Límite inferior = Q1 - 1.5 × IQR\n",
    "\n",
    "Límite superior = Q3 + 1.5 × IQR\n",
    "\n",
    "Filtrar los datos para identificar los registros que superan los límites establecidos, considerados como valores atípicos.\n",
    "\n",
    "El número total de valores atípicos encontrados en la columna \"Price_euros\" fue determinado, lo cual aporta información valiosa para comprender la presencia de laptops con precios extremos, ya sea por ser modelos muy económicos o de gama alta."
   ]
  },
  {
   "cell_type": "code",
   "execution_count": 46,
   "id": "83b9eb86",
   "metadata": {},
   "outputs": [
    {
     "name": "stdout",
     "output_type": "stream",
     "text": [
      "Cantidad de valores atípicos detectados en 'Price_euros': 0\n"
     ]
    }
   ],
   "source": [
    "Q1 = laptop['Price_euros'].quantile(0.25)\n",
    "Q3 = laptop['Price_euros'].quantile(0.75)\n",
    "IQR = Q3 - Q1\n",
    "\n",
    "lower_limit = Q1 - 1.5 * IQR\n",
    "upper_limit = Q3 + 1.5 * IQR\n",
    "\n",
    "# Filtrar los outliers\n",
    "outliers = laptop[(laptop['Price_euros'] < lower_limit) | (laptop['Price_euros'] > upper_limit)]\n",
    "\n",
    "print(f\"Cantidad de valores atípicos detectados en 'Price_euros': {outliers.shape[0]}\")\n"
   ]
  },
  {
   "cell_type": "markdown",
   "id": "c2c2c1e1",
   "metadata": {},
   "source": [
    "### Estrategias para el Tratamiento de Valores Atípicos\n",
    "\n",
    "- Transformación logarítmica: Es adecuada para datos que siguen una distribución exponencial, ya que mantiene el orden de los datos sin eliminar valores extremos.\n",
    "- Winsorization:Es útil cuando se desea mantener los valores originales, pero limitando los valores atípicos a un rango aceptable."
   ]
  },
  {
   "cell_type": "code",
   "execution_count": 47,
   "id": "b1384145",
   "metadata": {},
   "outputs": [
    {
     "name": "stderr",
     "output_type": "stream",
     "text": [
      "c:\\Users\\Sebas\\AppData\\Local\\Programs\\Python\\Python313\\Lib\\site-packages\\pandas\\core\\arraylike.py:399: RuntimeWarning: invalid value encountered in log1p\n",
      "  result = getattr(ufunc, method)(*inputs, **kwargs)\n"
     ]
    },
    {
     "data": {
      "image/png": "[encoded data removed]",
      "text/plain": [
       "<Figure size 1800x500 with 3 Axes>"
      ]
     },
     "metadata": {},
     "output_type": "display_data"
    }
   ],
   "source": [
    "\n",
    "# Opción 1: Transformación logarítmica\n",
    "laptop['Price_log'] = np.log1p(laptop['Price_euros'])\n",
    "\n",
    "# Opción 2: Winsorization\n",
    "laptop['Price_winsorized'] = winsorize(laptop['Price_euros'], limits=[0.05, 0.05])\n",
    "\n",
    "# Comparación visual con boxplots\n",
    "fig, axes = plt.subplots(1, 3, figsize=(18, 5))\n",
    "\n",
    "sns.boxplot(y=laptop['Price_euros'], ax=axes[0], color='skyblue').set_title('Original')\n",
    "sns.boxplot(y=laptop['Price_log'], ax=axes[1], color='lightgreen').set_title('Log Transform')\n",
    "sns.boxplot(y=laptop['Price_winsorized'], ax=axes[2], color='salmon').set_title('Winsorized')\n",
    "\n",
    "plt.suptitle('Comparación de Estrategias de Tratamiento de Outliers - Precio de Laptops', fontsize=14)\n",
    "plt.tight_layout()\n",
    "plt.show()\n"
   ]
  },
  {
   "cell_type": "markdown",
   "id": "92df431a",
   "metadata": {},
   "source": [
    "###  Normalización"
   ]
  },
  {
   "cell_type": "markdown",
   "id": "7dab4b43",
   "metadata": {},
   "source": [
    " El proceso de normalización garantiza que las características con diferentes escalas por ejemplo, \"Inches\" podra tener valores entre 0 y 20, mientras que \"CPU_freq\" podría tener un rango mucho más ampli no dominen el modelo de aprendizaje automático debido a su magnitud. Esto es crucial porque muchos algoritmos de machine learning, como la regresión logística, SVMs o redes neuronales, son sensibles a la escala de las características."
   ]
  },
  {
   "cell_type": "code",
   "execution_count": 48,
   "id": "cc6ef695",
   "metadata": {},
   "outputs": [
    {
     "name": "stdout",
     "output_type": "stream",
     "text": [
      "     Inches       Ram    Weight   ScreenW   ScreenH  CPU_freq  PrimaryStorage  \\\n",
      "0 -1.205746 -0.086499 -1.002380  1.338239  1.853934 -0.005918       -0.866236   \n",
      "1 -1.205746 -0.086499 -1.047227 -0.932863 -0.612830 -0.998674       -0.866236   \n",
      "2  0.403873 -0.086499 -0.269871  0.040466  0.021481  0.391185       -0.515929   \n",
      "3  0.263906  1.483418 -0.314718  1.987125  2.558724  0.788288        0.184684   \n",
      "4 -1.205746 -0.086499 -1.002380  1.338239  1.853934  1.582493       -0.515929   \n",
      "\n",
      "   SecondaryStorage  Price_euros  \n",
      "0         -0.423449     0.377923  \n",
      "1         -0.423449    -0.345616  \n",
      "2         -0.423449    -0.877399  \n",
      "3         -0.423449     2.198976  \n",
      "4         -0.423449     1.139482  \n"
     ]
    }
   ],
   "source": [
    "# Seleccionar las columnas numéricas que deseas normalizar\n",
    "numerical_columns = ['Inches', 'Ram', 'Weight', 'ScreenW', 'ScreenH', 'CPU_freq', 'PrimaryStorage', 'SecondaryStorage', 'Price_euros']\n",
    "\n",
    "# Crear un objeto StandardScaler\n",
    "scaler = StandardScaler()\n",
    "\n",
    "# Aplicar la normalización a las columnas seleccionadas\n",
    "laptop[numerical_columns] = scaler.fit_transform(laptop[numerical_columns])\n",
    "\n",
    "# Verificar el resultado\n",
    "print(laptop[numerical_columns].head())"
   ]
  },
  {
   "cell_type": "code",
   "execution_count": 49,
   "id": "1a1b8bea",
   "metadata": {},
   "outputs": [
    {
     "name": "stdout",
     "output_type": "stream",
     "text": [
      "Datos limpios guardados exitosamente.\n"
     ]
    }
   ],
   "source": [
    "laptop.to_csv('../data/laptop_prices.csv', index=False)\n",
    "print(\"Datos limpios guardados exitosamente.\")"
   ]
  }
 ],
 "metadata": {
  "kernelspec": {
   "display_name": "Python 3",
   "language": "python",
   "name": "python3"
  },
  "language_info": {
   "codemirror_mode": {
    "name": "ipython",
    "version": 3
   },
   "file_extension": ".py",
   "mimetype": "text/x-python",
   "name": "python",
   "nbconvert_exporter": "python",
   "pygments_lexer": "ipython3",
   "version": "3.13.0"
  }
 },
 "nbformat": 4,
 "nbformat_minor": 5
}
